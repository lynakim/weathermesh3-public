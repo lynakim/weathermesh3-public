{
 "cells": [
  {
   "cell_type": "code",
   "execution_count": 1,
   "metadata": {},
   "outputs": [],
   "source": [
    "import numpy as np\n",
    "import matplotlib.pyplot as plt\n",
    "from utils import noncore_sfc_vars\n",
    "vars = [v for v in noncore_sfc_vars if '-' not in v] + ['142_lsp-6h',]"
   ]
  },
  {
   "cell_type": "code",
   "execution_count": 8,
   "metadata": {},
   "outputs": [],
   "source": [
    "data = np.load(f'/fast/proc/era5/extra/034_sstk/201212/1354320000.npz')['x'][0]\n",
    "data = np.nan_to_num(data,nan=0)\n",
    "plt.imsave('sstk.png',data)"
   ]
  },
  {
   "cell_type": "code",
   "execution_count": 4,
   "metadata": {},
   "outputs": [],
   "source": [
    "v = vars[0]\n",
    "timestamp = 1354320000\n",
    "data = np.load(f'/fast/proc/era5/extra/{v}/201212/{timestamp}.npz')['x'][0]\n",
    "\n",
    "# plt.figure()\n",
    "# plt.imshow(data)\n",
    "# plt.axis('off')\n",
    "# plt.tight_layout()\n",
    "# plt.show()\n",
    "# make gif by adding 3600 to timestamp and repeating\n",
    "import imageio\n",
    "\n",
    "images = []\n",
    "for i in range(24):\n",
    "    timestamp += 3600\n",
    "    data = np.load(f'/fast/proc/era5/extra/{v}/201212/{timestamp}.npz')['x'][0].astype(np.float32)\n",
    "    # Normalize the data to 0-255 range\n",
    "    # data_min, data_max = data.min(), data.max()\n",
    "    # data_normalized = ((data - data_min) / (data_max - data_min) * 255).astype(np.uint8)\n",
    "    images.append(data)\n",
    "\n",
    "imageio.mimsave(f'{v}.gif', images)\n"
   ]
  },
  {
   "cell_type": "code",
   "execution_count": 13,
   "metadata": {},
   "outputs": [
    {
     "name": "stdout",
     "output_type": "stream",
     "text": [
      "GIF saved as 168_2d.gif\n",
      "GIF saved as 45_tcc.gif\n",
      "GIF saved as 034_sstk.gif\n",
      "GIF saved as 15_msnswrf.gif\n",
      "GIF saved as logtp.gif\n",
      "GIF saved as 201_mx2t.gif\n",
      "GIF saved as 202_mn2t.gif\n",
      "GIF saved as 142_lsp.gif\n",
      "GIF saved as 143_cp.gif\n",
      "GIF saved as 142_lsp-6h.gif\n"
     ]
    }
   ],
   "source": [
    "import matplotlib.pyplot as plt\n",
    "import matplotlib.animation as animation\n",
    "from datetime import datetime, timedelta\n",
    "\n",
    "def create_gif(v, start_timestamp, num_frames=24, cmap='viridis', fps=2):\n",
    "    # size 12,8\n",
    "    fig, ax = plt.subplots(figsize=(12,6))\n",
    "    images = []\n",
    "    timestamp = start_timestamp\n",
    "    \n",
    "    for i in range(num_frames):\n",
    "        try:\n",
    "            # Load the data\n",
    "            filename = f'/fast/proc/era5/extra/{v}/202301/{timestamp}.npz'\n",
    "            data = np.load(filename)['x'].astype(np.float32)\n",
    "            if data.ndim == 3:\n",
    "                data = data[0]\n",
    "            \n",
    "            # Create image using imshow\n",
    "            im = ax.imshow(data, cmap=cmap, animated=True, aspect='auto', extent=[0, 1, 0, 1])\n",
    "            plt.axis('off')\n",
    "            timestamp_text = ax.text(0.02, 0.95, v + ' ' + datetime.fromtimestamp(timestamp).strftime(\"%H:%M\"),\n",
    "                                    transform=ax.transAxes, color='red', fontsize=16)\n",
    "            fig.tight_layout()\n",
    "            \n",
    "            images.append([im, timestamp_text])\n",
    "            timestamp += 3600\n",
    "        \n",
    "        except FileNotFoundError:\n",
    "            print(f\"File not found {filename}\")\n",
    "            continue\n",
    "        except Exception as e:\n",
    "            print(f\"Error processing frame for timestamp {timestamp}: {str(e)}\")\n",
    "            continue\n",
    "    \n",
    "    if images:\n",
    "        try:\n",
    "            # Create the animation\n",
    "            ani = animation.ArtistAnimation(fig, images, interval=1000/fps, blit=True,\n",
    "                                            repeat_delay=1000)\n",
    "            \n",
    "            # Save as GIF\n",
    "            ani.save(f'{v}.gif', writer='pillow', fps=fps)\n",
    "            print(f\"GIF saved as {v}.gif\")\n",
    "        except Exception as e:\n",
    "            print(f\"Error saving GIF: {str(e)}\")\n",
    "    else:\n",
    "        print(\"No valid frames to create GIF for {v}\")\n",
    "    \n",
    "    plt.close(fig)\n",
    "\n",
    "for v in vars:\n",
    "    create_gif(v, 1672531200)"
   ]
  },
  {
   "cell_type": "markdown",
   "metadata": {},
   "source": [
    "<img src=\"168_2d.gif\" width=\"750\" align=\"center\">"
   ]
  }
 ],
 "metadata": {
  "kernelspec": {
   "display_name": "Python 3",
   "language": "python",
   "name": "python3"
  },
  "language_info": {
   "codemirror_mode": {
    "name": "ipython",
    "version": 3
   },
   "file_extension": ".py",
   "mimetype": "text/x-python",
   "name": "python",
   "nbconvert_exporter": "python",
   "pygments_lexer": "ipython3",
   "version": "3.10.12"
  }
 },
 "nbformat": 4,
 "nbformat_minor": 2
}
